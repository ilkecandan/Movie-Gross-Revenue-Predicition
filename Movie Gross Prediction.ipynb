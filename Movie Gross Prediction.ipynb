{
 "cells": [
  {
   "cell_type": "code",
   "execution_count": 470,
   "id": "bcc76422",
   "metadata": {},
   "outputs": [
    {
     "data": {
      "text/html": [
       "<div>\n",
       "<style scoped>\n",
       "    .dataframe tbody tr th:only-of-type {\n",
       "        vertical-align: middle;\n",
       "    }\n",
       "\n",
       "    .dataframe tbody tr th {\n",
       "        vertical-align: top;\n",
       "    }\n",
       "\n",
       "    .dataframe thead th {\n",
       "        text-align: right;\n",
       "    }\n",
       "</style>\n",
       "<table border=\"1\" class=\"dataframe\">\n",
       "  <thead>\n",
       "    <tr style=\"text-align: right;\">\n",
       "      <th></th>\n",
       "      <th>name</th>\n",
       "      <th>rating</th>\n",
       "      <th>genre</th>\n",
       "      <th>year</th>\n",
       "      <th>released</th>\n",
       "      <th>score</th>\n",
       "      <th>votes</th>\n",
       "      <th>director</th>\n",
       "      <th>writer</th>\n",
       "      <th>star</th>\n",
       "      <th>country</th>\n",
       "      <th>budget</th>\n",
       "      <th>gross</th>\n",
       "      <th>company</th>\n",
       "      <th>runtime</th>\n",
       "    </tr>\n",
       "  </thead>\n",
       "  <tbody>\n",
       "    <tr>\n",
       "      <th>0</th>\n",
       "      <td>The Shining</td>\n",
       "      <td>R</td>\n",
       "      <td>Drama</td>\n",
       "      <td>1980</td>\n",
       "      <td>June 13, 1980 (United States)</td>\n",
       "      <td>8.4</td>\n",
       "      <td>927000.0</td>\n",
       "      <td>Stanley Kubrick</td>\n",
       "      <td>Stephen King</td>\n",
       "      <td>Jack Nicholson</td>\n",
       "      <td>United Kingdom</td>\n",
       "      <td>19000000.0</td>\n",
       "      <td>46998772.0</td>\n",
       "      <td>Warner Bros.</td>\n",
       "      <td>146.0</td>\n",
       "    </tr>\n",
       "    <tr>\n",
       "      <th>1</th>\n",
       "      <td>The Blue Lagoon</td>\n",
       "      <td>R</td>\n",
       "      <td>Adventure</td>\n",
       "      <td>1980</td>\n",
       "      <td>July 2, 1980 (United States)</td>\n",
       "      <td>5.8</td>\n",
       "      <td>65000.0</td>\n",
       "      <td>Randal Kleiser</td>\n",
       "      <td>Henry De Vere Stacpoole</td>\n",
       "      <td>Brooke Shields</td>\n",
       "      <td>United States</td>\n",
       "      <td>4500000.0</td>\n",
       "      <td>58853106.0</td>\n",
       "      <td>Columbia Pictures</td>\n",
       "      <td>104.0</td>\n",
       "    </tr>\n",
       "    <tr>\n",
       "      <th>2</th>\n",
       "      <td>Star Wars: Episode V - The Empire Strikes Back</td>\n",
       "      <td>PG</td>\n",
       "      <td>Action</td>\n",
       "      <td>1980</td>\n",
       "      <td>June 20, 1980 (United States)</td>\n",
       "      <td>8.7</td>\n",
       "      <td>1200000.0</td>\n",
       "      <td>Irvin Kershner</td>\n",
       "      <td>Leigh Brackett</td>\n",
       "      <td>Mark Hamill</td>\n",
       "      <td>United States</td>\n",
       "      <td>18000000.0</td>\n",
       "      <td>538375067.0</td>\n",
       "      <td>Lucasfilm</td>\n",
       "      <td>124.0</td>\n",
       "    </tr>\n",
       "    <tr>\n",
       "      <th>3</th>\n",
       "      <td>Airplane!</td>\n",
       "      <td>PG</td>\n",
       "      <td>Comedy</td>\n",
       "      <td>1980</td>\n",
       "      <td>July 2, 1980 (United States)</td>\n",
       "      <td>7.7</td>\n",
       "      <td>221000.0</td>\n",
       "      <td>Jim Abrahams</td>\n",
       "      <td>Jim Abrahams</td>\n",
       "      <td>Robert Hays</td>\n",
       "      <td>United States</td>\n",
       "      <td>3500000.0</td>\n",
       "      <td>83453539.0</td>\n",
       "      <td>Paramount Pictures</td>\n",
       "      <td>88.0</td>\n",
       "    </tr>\n",
       "    <tr>\n",
       "      <th>4</th>\n",
       "      <td>Caddyshack</td>\n",
       "      <td>R</td>\n",
       "      <td>Comedy</td>\n",
       "      <td>1980</td>\n",
       "      <td>July 25, 1980 (United States)</td>\n",
       "      <td>7.3</td>\n",
       "      <td>108000.0</td>\n",
       "      <td>Harold Ramis</td>\n",
       "      <td>Brian Doyle-Murray</td>\n",
       "      <td>Chevy Chase</td>\n",
       "      <td>United States</td>\n",
       "      <td>6000000.0</td>\n",
       "      <td>39846344.0</td>\n",
       "      <td>Orion Pictures</td>\n",
       "      <td>98.0</td>\n",
       "    </tr>\n",
       "  </tbody>\n",
       "</table>\n",
       "</div>"
      ],
      "text/plain": [
       "                                             name rating      genre  year  \\\n",
       "0                                     The Shining      R      Drama  1980   \n",
       "1                                 The Blue Lagoon      R  Adventure  1980   \n",
       "2  Star Wars: Episode V - The Empire Strikes Back     PG     Action  1980   \n",
       "3                                       Airplane!     PG     Comedy  1980   \n",
       "4                                      Caddyshack      R     Comedy  1980   \n",
       "\n",
       "                        released  score      votes         director  \\\n",
       "0  June 13, 1980 (United States)    8.4   927000.0  Stanley Kubrick   \n",
       "1   July 2, 1980 (United States)    5.8    65000.0   Randal Kleiser   \n",
       "2  June 20, 1980 (United States)    8.7  1200000.0   Irvin Kershner   \n",
       "3   July 2, 1980 (United States)    7.7   221000.0     Jim Abrahams   \n",
       "4  July 25, 1980 (United States)    7.3   108000.0     Harold Ramis   \n",
       "\n",
       "                    writer            star         country      budget  \\\n",
       "0             Stephen King  Jack Nicholson  United Kingdom  19000000.0   \n",
       "1  Henry De Vere Stacpoole  Brooke Shields   United States   4500000.0   \n",
       "2           Leigh Brackett     Mark Hamill   United States  18000000.0   \n",
       "3             Jim Abrahams     Robert Hays   United States   3500000.0   \n",
       "4       Brian Doyle-Murray     Chevy Chase   United States   6000000.0   \n",
       "\n",
       "         gross             company  runtime  \n",
       "0   46998772.0        Warner Bros.    146.0  \n",
       "1   58853106.0   Columbia Pictures    104.0  \n",
       "2  538375067.0           Lucasfilm    124.0  \n",
       "3   83453539.0  Paramount Pictures     88.0  \n",
       "4   39846344.0      Orion Pictures     98.0  "
      ]
     },
     "execution_count": 470,
     "metadata": {},
     "output_type": "execute_result"
    }
   ],
   "source": [
    "import pandas as pd\n",
    "import matplotlib.pyplot as plt\n",
    "import numpy as np\n",
    "import seaborn as sns\n",
    "df=pd.read_csv(\"movies.csv\")\n",
    "df.head()\n"
   ]
  },
  {
   "cell_type": "code",
   "execution_count": 471,
   "id": "3c81ca8d",
   "metadata": {},
   "outputs": [
    {
     "name": "stderr",
     "output_type": "stream",
     "text": [
      "C:\\Users\\LENOVO\\AppData\\Local\\Temp\\ipykernel_13264\\2892352391.py:2: FutureWarning: The default value of numeric_only in DataFrame.corr is deprecated. In a future version, it will default to False. Select only valid columns or specify the value of numeric_only to silence this warning.\n",
      "  cor = df.corr()\n"
     ]
    },
    {
     "data": {
      "text/plain": [
       "<AxesSubplot: >"
      ]
     },
     "execution_count": 471,
     "metadata": {},
     "output_type": "execute_result"
    },
    {
     "data": {
      "image/png": "[encoded data removed]",
      "text/plain": [
       "<Figure size 640x480 with 2 Axes>"
      ]
     },
     "metadata": {},
     "output_type": "display_data"
    }
   ],
   "source": [
    "# Let's check how these values correlate.\n",
    "cor = df.corr()\n",
    "sns.heatmap(cor, annot=True)"
   ]
  },
  {
   "cell_type": "code",
   "execution_count": 472,
   "id": "b8a29740",
   "metadata": {},
   "outputs": [],
   "source": [
    "# We can see most correlated values are \"budget\" and \"gross\". Values of \"writer\" and \"\"director\" fallows this for the second."
   ]
  },
  {
   "cell_type": "code",
   "execution_count": 473,
   "id": "07c06daf",
   "metadata": {},
   "outputs": [
    {
     "data": {
      "text/html": [
       "<div>\n",
       "<style scoped>\n",
       "    .dataframe tbody tr th:only-of-type {\n",
       "        vertical-align: middle;\n",
       "    }\n",
       "\n",
       "    .dataframe tbody tr th {\n",
       "        vertical-align: top;\n",
       "    }\n",
       "\n",
       "    .dataframe thead th {\n",
       "        text-align: right;\n",
       "    }\n",
       "</style>\n",
       "<table border=\"1\" class=\"dataframe\">\n",
       "  <thead>\n",
       "    <tr style=\"text-align: right;\">\n",
       "      <th></th>\n",
       "      <th>gross</th>\n",
       "      <th>writer</th>\n",
       "      <th>genre</th>\n",
       "      <th>budget</th>\n",
       "      <th>director</th>\n",
       "      <th>score</th>\n",
       "      <th>star</th>\n",
       "    </tr>\n",
       "  </thead>\n",
       "  <tbody>\n",
       "    <tr>\n",
       "      <th>0</th>\n",
       "      <td>46998772.0</td>\n",
       "      <td>Stephen King</td>\n",
       "      <td>Drama</td>\n",
       "      <td>19000000.0</td>\n",
       "      <td>Stanley Kubrick</td>\n",
       "      <td>8.4</td>\n",
       "      <td>Jack Nicholson</td>\n",
       "    </tr>\n",
       "    <tr>\n",
       "      <th>1</th>\n",
       "      <td>58853106.0</td>\n",
       "      <td>Henry De Vere Stacpoole</td>\n",
       "      <td>Adventure</td>\n",
       "      <td>4500000.0</td>\n",
       "      <td>Randal Kleiser</td>\n",
       "      <td>5.8</td>\n",
       "      <td>Brooke Shields</td>\n",
       "    </tr>\n",
       "    <tr>\n",
       "      <th>2</th>\n",
       "      <td>538375067.0</td>\n",
       "      <td>Leigh Brackett</td>\n",
       "      <td>Action</td>\n",
       "      <td>18000000.0</td>\n",
       "      <td>Irvin Kershner</td>\n",
       "      <td>8.7</td>\n",
       "      <td>Mark Hamill</td>\n",
       "    </tr>\n",
       "    <tr>\n",
       "      <th>3</th>\n",
       "      <td>83453539.0</td>\n",
       "      <td>Jim Abrahams</td>\n",
       "      <td>Comedy</td>\n",
       "      <td>3500000.0</td>\n",
       "      <td>Jim Abrahams</td>\n",
       "      <td>7.7</td>\n",
       "      <td>Robert Hays</td>\n",
       "    </tr>\n",
       "    <tr>\n",
       "      <th>4</th>\n",
       "      <td>39846344.0</td>\n",
       "      <td>Brian Doyle-Murray</td>\n",
       "      <td>Comedy</td>\n",
       "      <td>6000000.0</td>\n",
       "      <td>Harold Ramis</td>\n",
       "      <td>7.3</td>\n",
       "      <td>Chevy Chase</td>\n",
       "    </tr>\n",
       "  </tbody>\n",
       "</table>\n",
       "</div>"
      ],
      "text/plain": [
       "         gross                   writer      genre      budget  \\\n",
       "0   46998772.0             Stephen King      Drama  19000000.0   \n",
       "1   58853106.0  Henry De Vere Stacpoole  Adventure   4500000.0   \n",
       "2  538375067.0           Leigh Brackett     Action  18000000.0   \n",
       "3   83453539.0             Jim Abrahams     Comedy   3500000.0   \n",
       "4   39846344.0       Brian Doyle-Murray     Comedy   6000000.0   \n",
       "\n",
       "          director  score            star  \n",
       "0  Stanley Kubrick    8.4  Jack Nicholson  \n",
       "1   Randal Kleiser    5.8  Brooke Shields  \n",
       "2   Irvin Kershner    8.7     Mark Hamill  \n",
       "3     Jim Abrahams    7.7     Robert Hays  \n",
       "4     Harold Ramis    7.3     Chevy Chase  "
      ]
     },
     "execution_count": 473,
     "metadata": {},
     "output_type": "execute_result"
    }
   ],
   "source": [
    "#Cleaning the Data Frame\n",
    "# We are eliminating values that we won't be using.\n",
    "df = df[[\"gross\",\"writer\", \"genre\", \"budget\", \"director\", \"score\", \"star\"]]\n",
    "df.head()\n"
   ]
  },
  {
   "cell_type": "code",
   "execution_count": 474,
   "id": "541dc419",
   "metadata": {},
   "outputs": [
    {
     "data": {
      "text/html": [
       "<div>\n",
       "<style scoped>\n",
       "    .dataframe tbody tr th:only-of-type {\n",
       "        vertical-align: middle;\n",
       "    }\n",
       "\n",
       "    .dataframe tbody tr th {\n",
       "        vertical-align: top;\n",
       "    }\n",
       "\n",
       "    .dataframe thead th {\n",
       "        text-align: right;\n",
       "    }\n",
       "</style>\n",
       "<table border=\"1\" class=\"dataframe\">\n",
       "  <thead>\n",
       "    <tr style=\"text-align: right;\">\n",
       "      <th></th>\n",
       "      <th>gross</th>\n",
       "      <th>writer</th>\n",
       "      <th>genre</th>\n",
       "      <th>budget</th>\n",
       "      <th>director</th>\n",
       "      <th>score</th>\n",
       "      <th>star</th>\n",
       "    </tr>\n",
       "  </thead>\n",
       "  <tbody>\n",
       "    <tr>\n",
       "      <th>0</th>\n",
       "      <td>46998772.0</td>\n",
       "      <td>Stephen King</td>\n",
       "      <td>Drama</td>\n",
       "      <td>19000000.0</td>\n",
       "      <td>Stanley Kubrick</td>\n",
       "      <td>8.4</td>\n",
       "      <td>Jack Nicholson</td>\n",
       "    </tr>\n",
       "    <tr>\n",
       "      <th>1</th>\n",
       "      <td>58853106.0</td>\n",
       "      <td>Henry De Vere Stacpoole</td>\n",
       "      <td>Adventure</td>\n",
       "      <td>4500000.0</td>\n",
       "      <td>Randal Kleiser</td>\n",
       "      <td>5.8</td>\n",
       "      <td>Brooke Shields</td>\n",
       "    </tr>\n",
       "    <tr>\n",
       "      <th>2</th>\n",
       "      <td>538375067.0</td>\n",
       "      <td>Leigh Brackett</td>\n",
       "      <td>Action</td>\n",
       "      <td>18000000.0</td>\n",
       "      <td>Irvin Kershner</td>\n",
       "      <td>8.7</td>\n",
       "      <td>Mark Hamill</td>\n",
       "    </tr>\n",
       "    <tr>\n",
       "      <th>3</th>\n",
       "      <td>83453539.0</td>\n",
       "      <td>Jim Abrahams</td>\n",
       "      <td>Comedy</td>\n",
       "      <td>3500000.0</td>\n",
       "      <td>Jim Abrahams</td>\n",
       "      <td>7.7</td>\n",
       "      <td>Robert Hays</td>\n",
       "    </tr>\n",
       "    <tr>\n",
       "      <th>4</th>\n",
       "      <td>39846344.0</td>\n",
       "      <td>Brian Doyle-Murray</td>\n",
       "      <td>Comedy</td>\n",
       "      <td>6000000.0</td>\n",
       "      <td>Harold Ramis</td>\n",
       "      <td>7.3</td>\n",
       "      <td>Chevy Chase</td>\n",
       "    </tr>\n",
       "  </tbody>\n",
       "</table>\n",
       "</div>"
      ],
      "text/plain": [
       "         gross                   writer      genre      budget  \\\n",
       "0   46998772.0             Stephen King      Drama  19000000.0   \n",
       "1   58853106.0  Henry De Vere Stacpoole  Adventure   4500000.0   \n",
       "2  538375067.0           Leigh Brackett     Action  18000000.0   \n",
       "3   83453539.0             Jim Abrahams     Comedy   3500000.0   \n",
       "4   39846344.0       Brian Doyle-Murray     Comedy   6000000.0   \n",
       "\n",
       "          director  score            star  \n",
       "0  Stanley Kubrick    8.4  Jack Nicholson  \n",
       "1   Randal Kleiser    5.8  Brooke Shields  \n",
       "2   Irvin Kershner    8.7     Mark Hamill  \n",
       "3     Jim Abrahams    7.7     Robert Hays  \n",
       "4     Harold Ramis    7.3     Chevy Chase  "
      ]
     },
     "execution_count": 474,
     "metadata": {},
     "output_type": "execute_result"
    }
   ],
   "source": [
    "df = df[df[\"gross\"].notnull()]\n",
    "df = df[df[\"genre\"].notnull()]\n",
    "df = df[df[\"writer\"].notnull()]\n",
    "df =df[df[\"budget\"].notnull()]\n",
    "df =df[df[\"score\"].notnull()]\n",
    "df =df[df[\"director\"].notnull()]\n",
    "df =df[df[\"star\"].notnull()]\n",
    "df.head()"
   ]
  },
  {
   "cell_type": "code",
   "execution_count": 475,
   "id": "9acadf94",
   "metadata": {},
   "outputs": [
    {
     "name": "stdout",
     "output_type": "stream",
     "text": [
      "<class 'pandas.core.frame.DataFrame'>\n",
      "Int64Index: 5436 entries, 0 to 7652\n",
      "Data columns (total 7 columns):\n",
      " #   Column    Non-Null Count  Dtype  \n",
      "---  ------    --------------  -----  \n",
      " 0   gross     5436 non-null   float64\n",
      " 1   writer    5436 non-null   object \n",
      " 2   genre     5436 non-null   object \n",
      " 3   budget    5436 non-null   float64\n",
      " 4   director  5436 non-null   object \n",
      " 5   score     5436 non-null   float64\n",
      " 6   star      5436 non-null   object \n",
      "dtypes: float64(3), object(4)\n",
      "memory usage: 339.8+ KB\n"
     ]
    }
   ],
   "source": [
    "df.info()\n"
   ]
  },
  {
   "cell_type": "code",
   "execution_count": 476,
   "id": "64d7a047",
   "metadata": {},
   "outputs": [
    {
     "data": {
      "text/html": [
       "<div>\n",
       "<style scoped>\n",
       "    .dataframe tbody tr th:only-of-type {\n",
       "        vertical-align: middle;\n",
       "    }\n",
       "\n",
       "    .dataframe tbody tr th {\n",
       "        vertical-align: top;\n",
       "    }\n",
       "\n",
       "    .dataframe thead th {\n",
       "        text-align: right;\n",
       "    }\n",
       "</style>\n",
       "<table border=\"1\" class=\"dataframe\">\n",
       "  <thead>\n",
       "    <tr style=\"text-align: right;\">\n",
       "      <th></th>\n",
       "      <th>gross</th>\n",
       "      <th>budget</th>\n",
       "      <th>score</th>\n",
       "    </tr>\n",
       "  </thead>\n",
       "  <tbody>\n",
       "    <tr>\n",
       "      <th>count</th>\n",
       "      <td>5.436000e+03</td>\n",
       "      <td>5.436000e+03</td>\n",
       "      <td>5436.000000</td>\n",
       "    </tr>\n",
       "    <tr>\n",
       "      <th>mean</th>\n",
       "      <td>1.030045e+08</td>\n",
       "      <td>3.593864e+07</td>\n",
       "      <td>6.392642</td>\n",
       "    </tr>\n",
       "    <tr>\n",
       "      <th>std</th>\n",
       "      <td>1.871051e+08</td>\n",
       "      <td>4.154770e+07</td>\n",
       "      <td>0.963200</td>\n",
       "    </tr>\n",
       "    <tr>\n",
       "      <th>min</th>\n",
       "      <td>3.090000e+02</td>\n",
       "      <td>6.000000e+03</td>\n",
       "      <td>1.900000</td>\n",
       "    </tr>\n",
       "    <tr>\n",
       "      <th>25%</th>\n",
       "      <td>1.067412e+07</td>\n",
       "      <td>1.000000e+07</td>\n",
       "      <td>5.800000</td>\n",
       "    </tr>\n",
       "    <tr>\n",
       "      <th>50%</th>\n",
       "      <td>3.671199e+07</td>\n",
       "      <td>2.100000e+07</td>\n",
       "      <td>6.500000</td>\n",
       "    </tr>\n",
       "    <tr>\n",
       "      <th>75%</th>\n",
       "      <td>1.119478e+08</td>\n",
       "      <td>4.500000e+07</td>\n",
       "      <td>7.100000</td>\n",
       "    </tr>\n",
       "    <tr>\n",
       "      <th>max</th>\n",
       "      <td>2.847246e+09</td>\n",
       "      <td>3.560000e+08</td>\n",
       "      <td>9.300000</td>\n",
       "    </tr>\n",
       "  </tbody>\n",
       "</table>\n",
       "</div>"
      ],
      "text/plain": [
       "              gross        budget        score\n",
       "count  5.436000e+03  5.436000e+03  5436.000000\n",
       "mean   1.030045e+08  3.593864e+07     6.392642\n",
       "std    1.871051e+08  4.154770e+07     0.963200\n",
       "min    3.090000e+02  6.000000e+03     1.900000\n",
       "25%    1.067412e+07  1.000000e+07     5.800000\n",
       "50%    3.671199e+07  2.100000e+07     6.500000\n",
       "75%    1.119478e+08  4.500000e+07     7.100000\n",
       "max    2.847246e+09  3.560000e+08     9.300000"
      ]
     },
     "execution_count": 476,
     "metadata": {},
     "output_type": "execute_result"
    }
   ],
   "source": [
    "df.describe()"
   ]
  },
  {
   "cell_type": "code",
   "execution_count": 477,
   "id": "1628b135",
   "metadata": {},
   "outputs": [
    {
     "data": {
      "text/plain": [
       "gross       0\n",
       "writer      0\n",
       "genre       0\n",
       "budget      0\n",
       "director    0\n",
       "score       0\n",
       "star        0\n",
       "dtype: int64"
      ]
     },
     "execution_count": 477,
     "metadata": {},
     "output_type": "execute_result"
    }
   ],
   "source": [
    "df = df.dropna()\n",
    "df.isnull().sum()"
   ]
  },
  {
   "cell_type": "code",
   "execution_count": 478,
   "id": "0b9fe50a",
   "metadata": {},
   "outputs": [
    {
     "data": {
      "image/png": "[encoded data removed]",
      "text/plain": [
       "<Figure size 1200x700 with 1 Axes>"
      ]
     },
     "metadata": {},
     "output_type": "display_data"
    }
   ],
   "source": [
    "# Let's check how genre affects the gross of a movie.\n",
    "ig, ax = plt.subplots(1,1, figsize=(12, 7))\n",
    "df.boxplot('gross', 'genre', ax=ax)\n",
    "plt.suptitle('gross v genre')\n",
    "plt.title('')\n",
    "plt.ylabel('gross')\n",
    "plt.xticks(rotation=90)\n",
    "plt.show()"
   ]
  },
  {
   "cell_type": "code",
   "execution_count": 479,
   "id": "26c6690e",
   "metadata": {},
   "outputs": [],
   "source": [
    "df = df[df[\"gross\"] <= 12.00000e+07]\n"
   ]
  },
  {
   "cell_type": "code",
   "execution_count": 480,
   "id": "a32e9bf0",
   "metadata": {},
   "outputs": [
    {
     "data": {
      "image/png": "[encoded data removed]",
      "text/plain": [
       "<Figure size 1200x700 with 1 Axes>"
      ]
     },
     "metadata": {},
     "output_type": "display_data"
    }
   ],
   "source": [
    "ig, ax = plt.subplots(1,1, figsize=(12, 7))\n",
    "df.boxplot('gross', 'genre', ax=ax)\n",
    "plt.suptitle('gross v genre')\n",
    "plt.title('')\n",
    "plt.ylabel('gross')\n",
    "plt.xticks(rotation=90)\n",
    "plt.show()"
   ]
  },
  {
   "cell_type": "code",
   "execution_count": 481,
   "id": "474cc0d5",
   "metadata": {},
   "outputs": [],
   "source": [
    "from sklearn.preprocessing import LabelEncoder"
   ]
  },
  {
   "cell_type": "code",
   "execution_count": 482,
   "id": "a13ffe18",
   "metadata": {},
   "outputs": [
    {
     "data": {
      "text/plain": [
       "array([ 6,  1,  4,  9,  0,  3,  5,  8,  2, 14, 12, 11, 13, 10,  7])"
      ]
     },
     "execution_count": 482,
     "metadata": {},
     "output_type": "execute_result"
    }
   ],
   "source": [
    "le_genre = LabelEncoder()\n",
    "df['genre'] = le_genre.fit_transform(df['genre'])\n",
    "df[\"genre\"].unique()"
   ]
  },
  {
   "cell_type": "code",
   "execution_count": 483,
   "id": "0e004ea8",
   "metadata": {},
   "outputs": [
    {
     "data": {
      "text/plain": [
       "array([2462, 1009, 1227, ..., 1978,  141, 1816])"
      ]
     },
     "execution_count": 483,
     "metadata": {},
     "output_type": "execute_result"
    }
   ],
   "source": [
    "le_writer = LabelEncoder()\n",
    "df['writer'] = le_writer.fit_transform(df['writer'])\n",
    "df[\"writer\"].unique()"
   ]
  },
  {
   "cell_type": "code",
   "execution_count": 484,
   "id": "847d0a9e",
   "metadata": {},
   "outputs": [
    {
     "data": {
      "text/plain": [
       "array([1667, 1466,  820, ..., 1489, 1838,  268])"
      ]
     },
     "execution_count": 484,
     "metadata": {},
     "output_type": "execute_result"
    }
   ],
   "source": [
    "le_director = LabelEncoder()\n",
    "df['director'] = le_director.fit_transform(df['director'])\n",
    "df[\"director\"].unique()"
   ]
  },
  {
   "cell_type": "code",
   "execution_count": 485,
   "id": "88407b5d",
   "metadata": {},
   "outputs": [
    {
     "data": {
      "text/plain": [
       "array([ 642,  198, 1367, ...,  115, 1580,    9])"
      ]
     },
     "execution_count": 485,
     "metadata": {},
     "output_type": "execute_result"
    }
   ],
   "source": [
    "le_star = LabelEncoder()\n",
    "df['star'] = le_star.fit_transform(df['star'])\n",
    "df[\"star\"].unique()"
   ]
  },
  {
   "cell_type": "code",
   "execution_count": 486,
   "id": "f2f9ee3c",
   "metadata": {},
   "outputs": [],
   "source": [
    "X = df.drop(\"gross\", axis=1)\n",
    "y = df[\"gross\"]"
   ]
  },
  {
   "cell_type": "code",
   "execution_count": 487,
   "id": "57cd3e60",
   "metadata": {},
   "outputs": [],
   "source": [
    "# Now we will try various machine learning models."
   ]
  },
  {
   "cell_type": "code",
   "execution_count": 488,
   "id": "8c45c434",
   "metadata": {},
   "outputs": [
    {
     "data": {
      "text/plain": [
       "27406433.93459297"
      ]
     },
     "execution_count": 488,
     "metadata": {},
     "output_type": "execute_result"
    }
   ],
   "source": [
    "from sklearn.linear_model import LinearRegression\n",
    "linear_reg = LinearRegression()\n",
    "linear_reg.fit(X, y.values)\n",
    "y_pred = linear_reg.predict(X)\n",
    "from sklearn.metrics import mean_squared_error, mean_absolute_error\n",
    "import numpy as np\n",
    "error = np.sqrt(mean_squared_error(y, y_pred))\n",
    "error"
   ]
  },
  {
   "cell_type": "code",
   "execution_count": 489,
   "id": "2b051fba",
   "metadata": {},
   "outputs": [],
   "source": [
    "#Let's try another"
   ]
  },
  {
   "cell_type": "code",
   "execution_count": 490,
   "id": "bae652af",
   "metadata": {},
   "outputs": [
    {
     "name": "stdout",
     "output_type": "stream",
     "text": [
      "$0.00\n"
     ]
    }
   ],
   "source": [
    "from sklearn.tree import DecisionTreeRegressor\n",
    "dec_tree_reg = DecisionTreeRegressor(random_state=0)\n",
    "dec_tree_reg.fit(X, y.values)\n",
    "DecisionTreeRegressor(random_state=0)\n",
    "y_pred = dec_tree_reg.predict(X)\n",
    "error = np.sqrt(mean_squared_error(y, y_pred))\n",
    "print(\"${:,.02f}\".format(error))"
   ]
  },
  {
   "cell_type": "code",
   "execution_count": 491,
   "id": "3e7d3291",
   "metadata": {},
   "outputs": [],
   "source": [
    "# Trying out Random Forest Regressor"
   ]
  },
  {
   "cell_type": "code",
   "execution_count": 492,
   "id": "d4295c93",
   "metadata": {},
   "outputs": [
    {
     "name": "stdout",
     "output_type": "stream",
     "text": [
      "$10,396,735.42\n"
     ]
    }
   ],
   "source": [
    "from sklearn.ensemble import RandomForestRegressor\n",
    "random_forest_reg = RandomForestRegressor(random_state=0)\n",
    "random_forest_reg.fit(X, y.values)\n",
    "RandomForestRegressor(random_state=0)\n",
    "y_pred = random_forest_reg.predict(X)\n",
    "error = np.sqrt(mean_squared_error(y, y_pred))\n",
    "print(\"${:,.02f}\".format(error))"
   ]
  },
  {
   "cell_type": "code",
   "execution_count": 493,
   "id": "0e8b1511",
   "metadata": {},
   "outputs": [],
   "source": [
    "# Trying out GridSearchCV."
   ]
  },
  {
   "cell_type": "code",
   "execution_count": 494,
   "id": "0b1c3139",
   "metadata": {},
   "outputs": [
    {
     "name": "stdout",
     "output_type": "stream",
     "text": [
      "$0.00\n"
     ]
    }
   ],
   "source": [
    "from sklearn.model_selection import GridSearchCV\n",
    "\n",
    "max_depth = [None]\n",
    "parameters = {\"max_depth\": max_depth}\n",
    "\n",
    "regressor = DecisionTreeRegressor(random_state=0)\n",
    "gs = GridSearchCV(regressor, parameters, scoring='neg_mean_squared_error')\n",
    "gs.fit(X, y.values)\n",
    "GridSearchCV(estimator=DecisionTreeRegressor(random_state=0),\n",
    "             param_grid={'max_depth': [None, 2, 4, 6, 8, 10, 12]},\n",
    "             scoring='neg_mean_squared_error')\n",
    "regressor = gs.best_estimator_\n",
    "\n",
    "regressor.fit(X, y.values)\n",
    "y_pred = regressor.predict(X)\n",
    "error = np.sqrt(mean_squared_error(y, y_pred))\n",
    "print(\"${:,.02f}\".format(error))"
   ]
  },
  {
   "cell_type": "code",
   "execution_count": 495,
   "id": "f1545acf",
   "metadata": {},
   "outputs": [
    {
     "data": {
      "text/html": [
       "<div>\n",
       "<style scoped>\n",
       "    .dataframe tbody tr th:only-of-type {\n",
       "        vertical-align: middle;\n",
       "    }\n",
       "\n",
       "    .dataframe tbody tr th {\n",
       "        vertical-align: top;\n",
       "    }\n",
       "\n",
       "    .dataframe thead th {\n",
       "        text-align: right;\n",
       "    }\n",
       "</style>\n",
       "<table border=\"1\" class=\"dataframe\">\n",
       "  <thead>\n",
       "    <tr style=\"text-align: right;\">\n",
       "      <th></th>\n",
       "      <th>writer</th>\n",
       "      <th>genre</th>\n",
       "      <th>budget</th>\n",
       "      <th>director</th>\n",
       "      <th>score</th>\n",
       "      <th>star</th>\n",
       "    </tr>\n",
       "  </thead>\n",
       "  <tbody>\n",
       "    <tr>\n",
       "      <th>0</th>\n",
       "      <td>2462</td>\n",
       "      <td>6</td>\n",
       "      <td>19000000.0</td>\n",
       "      <td>1667</td>\n",
       "      <td>8.4</td>\n",
       "      <td>642</td>\n",
       "    </tr>\n",
       "    <tr>\n",
       "      <th>1</th>\n",
       "      <td>1009</td>\n",
       "      <td>1</td>\n",
       "      <td>4500000.0</td>\n",
       "      <td>1466</td>\n",
       "      <td>5.8</td>\n",
       "      <td>198</td>\n",
       "    </tr>\n",
       "    <tr>\n",
       "      <th>3</th>\n",
       "      <td>1227</td>\n",
       "      <td>4</td>\n",
       "      <td>3500000.0</td>\n",
       "      <td>820</td>\n",
       "      <td>7.7</td>\n",
       "      <td>1367</td>\n",
       "    </tr>\n",
       "    <tr>\n",
       "      <th>4</th>\n",
       "      <td>307</td>\n",
       "      <td>4</td>\n",
       "      <td>6000000.0</td>\n",
       "      <td>661</td>\n",
       "      <td>7.3</td>\n",
       "      <td>252</td>\n",
       "    </tr>\n",
       "    <tr>\n",
       "      <th>5</th>\n",
       "      <td>2680</td>\n",
       "      <td>9</td>\n",
       "      <td>550000.0</td>\n",
       "      <td>1635</td>\n",
       "      <td>6.4</td>\n",
       "      <td>144</td>\n",
       "    </tr>\n",
       "    <tr>\n",
       "      <th>...</th>\n",
       "      <td>...</td>\n",
       "      <td>...</td>\n",
       "      <td>...</td>\n",
       "      <td>...</td>\n",
       "      <td>...</td>\n",
       "      <td>...</td>\n",
       "    </tr>\n",
       "    <tr>\n",
       "      <th>7594</th>\n",
       "      <td>13</td>\n",
       "      <td>3</td>\n",
       "      <td>6000000.0</td>\n",
       "      <td>291</td>\n",
       "      <td>5.8</td>\n",
       "      <td>115</td>\n",
       "    </tr>\n",
       "    <tr>\n",
       "      <th>7604</th>\n",
       "      <td>756</td>\n",
       "      <td>6</td>\n",
       "      <td>350000.0</td>\n",
       "      <td>489</td>\n",
       "      <td>6.4</td>\n",
       "      <td>1580</td>\n",
       "    </tr>\n",
       "    <tr>\n",
       "      <th>7615</th>\n",
       "      <td>1978</td>\n",
       "      <td>9</td>\n",
       "      <td>2500000.0</td>\n",
       "      <td>1489</td>\n",
       "      <td>5.9</td>\n",
       "      <td>9</td>\n",
       "    </tr>\n",
       "    <tr>\n",
       "      <th>7616</th>\n",
       "      <td>141</td>\n",
       "      <td>0</td>\n",
       "      <td>1200000.0</td>\n",
       "      <td>1838</td>\n",
       "      <td>3.5</td>\n",
       "      <td>1500</td>\n",
       "    </tr>\n",
       "    <tr>\n",
       "      <th>7651</th>\n",
       "      <td>1816</td>\n",
       "      <td>1</td>\n",
       "      <td>135000000.0</td>\n",
       "      <td>268</td>\n",
       "      <td>6.8</td>\n",
       "      <td>591</td>\n",
       "    </tr>\n",
       "  </tbody>\n",
       "</table>\n",
       "<p>4161 rows × 6 columns</p>\n",
       "</div>"
      ],
      "text/plain": [
       "      writer  genre       budget  director  score  star\n",
       "0       2462      6   19000000.0      1667    8.4   642\n",
       "1       1009      1    4500000.0      1466    5.8   198\n",
       "3       1227      4    3500000.0       820    7.7  1367\n",
       "4        307      4    6000000.0       661    7.3   252\n",
       "5       2680      9     550000.0      1635    6.4   144\n",
       "...      ...    ...          ...       ...    ...   ...\n",
       "7594      13      3    6000000.0       291    5.8   115\n",
       "7604     756      6     350000.0       489    6.4  1580\n",
       "7615    1978      9    2500000.0      1489    5.9     9\n",
       "7616     141      0    1200000.0      1838    3.5  1500\n",
       "7651    1816      1  135000000.0       268    6.8   591\n",
       "\n",
       "[4161 rows x 6 columns]"
      ]
     },
     "execution_count": 495,
     "metadata": {},
     "output_type": "execute_result"
    }
   ],
   "source": [
    "X"
   ]
  },
  {
   "cell_type": "code",
   "execution_count": 496,
   "id": "f4dd1113",
   "metadata": {},
   "outputs": [
    {
     "data": {
      "text/plain": [
       "array([['Stephen King', 'Drama', '1000000.0', 'Stanley Kubrick', '7',\n",
       "        'Jack Nicholson']], dtype='<U32')"
      ]
     },
     "execution_count": 496,
     "metadata": {},
     "output_type": "execute_result"
    }
   ],
   "source": [
    "X = np.array([[\"Stephen King\", \"Drama\", 1000000.0, \"Stanley Kubrick\", 7, \"Jack Nicholson\"]])\n",
    "X"
   ]
  },
  {
   "cell_type": "code",
   "execution_count": 497,
   "id": "db45b675",
   "metadata": {},
   "outputs": [
    {
     "data": {
      "text/plain": [
       "array([[2.462e+03, 6.000e+00, 1.000e+06, 1.667e+03, 7.000e+00, 6.420e+02]])"
      ]
     },
     "execution_count": 497,
     "metadata": {},
     "output_type": "execute_result"
    }
   ],
   "source": [
    "X[:, 0] = le_writer.transform(X[:,0])\n",
    "X[:, 1] = le_genre.transform(X[:,1])\n",
    "X[:, 3] = le_director.transform(X[:,3])\n",
    "X[:, 5] = le_star.transform(X[:,5])\n",
    "\n",
    "X = X.astype(float)\n",
    "X"
   ]
  },
  {
   "cell_type": "code",
   "execution_count": 498,
   "id": "564b6eed",
   "metadata": {},
   "outputs": [
    {
     "name": "stderr",
     "output_type": "stream",
     "text": [
      "C:\\Users\\LENOVO\\anaconda3\\envs\\gross\\lib\\site-packages\\sklearn\\base.py:450: UserWarning: X does not have valid feature names, but DecisionTreeRegressor was fitted with feature names\n",
      "  warnings.warn(\n"
     ]
    },
    {
     "data": {
      "text/plain": [
       "array([2023414.])"
      ]
     },
     "execution_count": 498,
     "metadata": {},
     "output_type": "execute_result"
    }
   ],
   "source": [
    "y_pred = regressor.predict(X)\n",
    "y_pred"
   ]
  },
  {
   "cell_type": "code",
   "execution_count": 499,
   "id": "d8629862",
   "metadata": {},
   "outputs": [],
   "source": [
    "import pickle\n"
   ]
  },
  {
   "cell_type": "code",
   "execution_count": 500,
   "id": "155008ff",
   "metadata": {},
   "outputs": [],
   "source": [
    "data = {\"model\": regressor, \"le_writer\": le_writer, \"le_genre\": le_genre, \"le_director\": le_director, \"le_star\": le_star }\n",
    "with open('saved_steps.pkl', 'wb') as file:\n",
    "    pickle.dump(data, file)"
   ]
  },
  {
   "cell_type": "code",
   "execution_count": 501,
   "id": "e3f9ddd3",
   "metadata": {},
   "outputs": [],
   "source": [
    "with open('saved_steps.pkl', 'rb') as file:\n",
    "    data = pickle.load(file)\n",
    "\n",
    "regressor_loaded = data[\"model\"]\n",
    "le_writer = data[\"le_writer\"]\n",
    "le_genre = data[\"le_genre\"]\n",
    "le_director = data[\"le_director\"]\n",
    "le_star = data[\"le_star\"]"
   ]
  },
  {
   "cell_type": "code",
   "execution_count": 502,
   "id": "2356b665",
   "metadata": {},
   "outputs": [
    {
     "name": "stderr",
     "output_type": "stream",
     "text": [
      "C:\\Users\\LENOVO\\anaconda3\\envs\\gross\\lib\\site-packages\\sklearn\\base.py:450: UserWarning: X does not have valid feature names, but DecisionTreeRegressor was fitted with feature names\n",
      "  warnings.warn(\n"
     ]
    },
    {
     "data": {
      "text/plain": [
       "array([2023414.])"
      ]
     },
     "execution_count": 502,
     "metadata": {},
     "output_type": "execute_result"
    }
   ],
   "source": [
    "y_pred = regressor_loaded.predict(X)\n",
    "y_pred"
   ]
  }
 ],
 "metadata": {
  "kernelspec": {
   "display_name": "gross",
   "language": "python",
   "name": "gross"
  },
  "language_info": {
   "codemirror_mode": {
    "name": "ipython",
    "version": 3
   },
   "file_extension": ".py",
   "mimetype": "text/x-python",
   "name": "python",
   "nbconvert_exporter": "python",
   "pygments_lexer": "ipython3",
   "version": "3.9.13"
  }
 },
 "nbformat": 4,
 "nbformat_minor": 5
}
